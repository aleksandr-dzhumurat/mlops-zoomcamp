{
 "cells": [
  {
   "cell_type": "markdown",
   "id": "175ec956-211e-4aaa-8003-a4fc91288708",
   "metadata": {},
   "source": [
    "Once you installed the package, run the command mlflow --version and check the output.\n",
    "\n"
   ]
  },
  {
   "cell_type": "code",
   "execution_count": 1,
   "id": "9ccaebfb-7d01-4e81-84e6-17b3033ff018",
   "metadata": {},
   "outputs": [
    {
     "name": "stderr",
     "output_type": "stream",
     "text": [
      "OpenBLAS WARNING - could not determine the L2 cache size on this system, assuming 256k\n",
      "OpenBLAS WARNING - could not determine the L2 cache size on this system, assuming 256k\n"
     ]
    },
    {
     "name": "stdout",
     "output_type": "stream",
     "text": [
      "2.12.2\n"
     ]
    }
   ],
   "source": [
    "import mlflow\n",
    "\n",
    "print(mlflow.__version__)"
   ]
  },
  {
   "cell_type": "code",
   "execution_count": 2,
   "id": "870b01c0-73b2-4c16-9ce8-4b98851d2288",
   "metadata": {},
   "outputs": [
    {
     "data": {
      "text/plain": [
       "['green_tripdata_2023-01.parquet',\n",
       " 'yellow_tripdata_2023-01.parquet',\n",
       " 'yellow_tripdata_2023-02.parquet',\n",
       " 'green_tripdata_2023-02.parquet',\n",
       " 'green_tripdata_2023-03.parquet']"
      ]
     },
     "execution_count": 2,
     "metadata": {},
     "output_type": "execute_result"
    }
   ],
   "source": [
    "import os\n",
    "\n",
    "[i for i in os.listdir('/srv/data/trips') if ('parquet' in i and '2023' in i)]"
   ]
  },
  {
   "cell_type": "markdown",
   "id": "e1291b31-ecad-484b-9473-15e0478af460",
   "metadata": {},
   "source": [
    "Change dir\n",
    "\n",
    "```shell\n",
    "cd src/jupyter_notebooks\n",
    "```\n",
    "\n",
    "Script\n",
    "\n",
    "```shell\n",
    "python preprocess_data.py --raw_data_path /srv/data/trips --dest_path ./output\n",
    "```"
   ]
  },
  {
   "cell_type": "code",
   "execution_count": 3,
   "id": "655f0599-57e1-418f-bf93-e53c49245544",
   "metadata": {},
   "outputs": [
    {
     "name": "stdout",
     "output_type": "stream",
     "text": [
      "Num files in dir: 4\n"
     ]
    },
    {
     "data": {
      "text/plain": [
       "['train.pkl', 'val.pkl', 'dv.pkl', 'test.pkl']"
      ]
     },
     "execution_count": 3,
     "metadata": {},
     "output_type": "execute_result"
    }
   ],
   "source": [
    "print('Num files in dir: %d' % len(os.listdir('output')))\n",
    "\n",
    "os.listdir('output')"
   ]
  },
  {
   "cell_type": "code",
   "execution_count": 5,
   "id": "680e2aff-7dbf-4ef7-9063-b0049efc0c91",
   "metadata": {},
   "outputs": [
    {
     "name": "stdout",
     "output_type": "stream",
     "text": [
      "{'max_depth': '19', 'min_samples_leaf': '2', 'min_samples_split': '2', 'n_estimators': '11', 'random_state': '42'}\n",
      "{'max_depth': '15', 'min_samples_leaf': '2', 'min_samples_split': '3', 'n_estimators': '40', 'random_state': '42'}\n",
      "{'max_depth': '20', 'min_samples_leaf': '1', 'min_samples_split': '9', 'n_estimators': '19', 'random_state': '42'}\n",
      "{'max_depth': '14', 'min_samples_leaf': '3', 'min_samples_split': '4', 'n_estimators': '26', 'random_state': '42'}\n",
      "{'max_depth': '14', 'min_samples_leaf': '2', 'min_samples_split': '6', 'n_estimators': '23', 'random_state': '42'}\n"
     ]
    }
   ],
   "source": [
    "import os\n",
    "import pickle\n",
    "import mlflow\n",
    "\n",
    "from mlflow.entities import ViewType\n",
    "from mlflow.tracking import MlflowClient\n",
    "from sklearn.ensemble import RandomForestRegressor\n",
    "from sklearn.metrics import mean_squared_error\n",
    "\n",
    "HPO_EXPERIMENT_NAME = \"random-forest-hyperopt\"\n",
    "EXPERIMENT_NAME = \"random-forest-best-models\"\n",
    "RF_PARAMS = ['max_depth', 'n_estimators', 'min_samples_split', 'min_samples_leaf', 'random_state']\n",
    "\n",
    "mlflow.set_tracking_uri(\"http://mlflow_container_ui:8000\")\n",
    "\n",
    "client = MlflowClient()\n",
    "\n",
    "experiment = client.get_experiment_by_name(HPO_EXPERIMENT_NAME)\n",
    "runs = client.search_runs(\n",
    "    experiment_ids=experiment.experiment_id,\n",
    "    run_view_type=ViewType.ACTIVE_ONLY,\n",
    "    max_results=5,\n",
    "    order_by=[\"metrics.rmse ASC\"]\n",
    ")\n",
    "for run in runs:\n",
    "    print(run.data.params)"
   ]
  },
  {
   "cell_type": "code",
   "execution_count": 13,
   "id": "23ee8213-1f97-4fa2-985a-7a4a0cf23d5d",
   "metadata": {},
   "outputs": [
    {
     "data": {
      "text/plain": [
       "'runs:/3bcd2305a0794b8c9870e116edf6616d/model'"
      ]
     },
     "execution_count": 13,
     "metadata": {},
     "output_type": "execute_result"
    }
   ],
   "source": [
    "EXPERIMENT_NAME = \"random-forest-best-models\"\n",
    "experiment = client.get_experiment_by_name(EXPERIMENT_NAME)\n",
    "run = client.search_runs(\n",
    "    experiment_ids=experiment.experiment_id,\n",
    "    run_view_type=ViewType.ACTIVE_ONLY,\n",
    "    max_results=5,\n",
    "    order_by=[\"metrics.test_rmse ASC\"]\n",
    ")[0]\n",
    "\n",
    "f'runs:/{run.info.run_id}/model'"
   ]
  },
  {
   "cell_type": "code",
   "execution_count": null,
   "id": "4ef9841e-40d0-4bf8-a76d-b778d4176fea",
   "metadata": {},
   "outputs": [],
   "source": []
  }
 ],
 "metadata": {
  "kernelspec": {
   "display_name": "Python 3 (ipykernel)",
   "language": "python",
   "name": "python3"
  },
  "language_info": {
   "codemirror_mode": {
    "name": "ipython",
    "version": 3
   },
   "file_extension": ".py",
   "mimetype": "text/x-python",
   "name": "python",
   "nbconvert_exporter": "python",
   "pygments_lexer": "ipython3",
   "version": "3.12.3"
  }
 },
 "nbformat": 4,
 "nbformat_minor": 5
}
